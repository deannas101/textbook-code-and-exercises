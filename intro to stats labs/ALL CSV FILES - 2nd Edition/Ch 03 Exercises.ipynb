{
 "cells": [
  {
   "cell_type": "code",
   "execution_count": 1,
   "id": "e0cf890b-6285-42f7-a92d-ff7f6917c2f7",
   "metadata": {},
   "outputs": [],
   "source": [
    "import numpy as np\n",
    "import pandas as pd\n",
    "from matplotlib.pyplot import subplots\n",
    "\n",
    "import statsmodels.api as sm\n",
    "\n",
    "from statsmodels.stats.outliers_influence \\\n",
    "     import variance_inflation_factor as VIF\n",
    "from statsmodels.stats.anova import anova_lm\n",
    "\n",
    "from ISLP import load_data\n",
    "from ISLP.models import (ModelSpec as MS,\n",
    "                         summarize,\n",
    "                         poly)\n",
    "\n",
    "import math"
   ]
  },
  {
   "cell_type": "markdown",
   "id": "608aa68a-805c-48b9-9638-38edcaa3b3df",
   "metadata": {},
   "source": [
    "### Question 8"
   ]
  },
  {
   "cell_type": "code",
   "execution_count": 3,
   "id": "1d367f1e-c53c-4dbd-81de-2162dcab8a8b",
   "metadata": {},
   "outputs": [],
   "source": [
    "auto = pd.read_csv('Auto.csv', na_values=\"?\")\n",
    "auto = auto.dropna()"
   ]
  },
  {
   "cell_type": "code",
   "execution_count": 4,
   "id": "489ceecb-3d6f-4fb0-9bf5-7f75266036bd",
   "metadata": {},
   "outputs": [
    {
     "data": {
      "text/html": [
       "<div>\n",
       "<style scoped>\n",
       "    .dataframe tbody tr th:only-of-type {\n",
       "        vertical-align: middle;\n",
       "    }\n",
       "\n",
       "    .dataframe tbody tr th {\n",
       "        vertical-align: top;\n",
       "    }\n",
       "\n",
       "    .dataframe thead th {\n",
       "        text-align: right;\n",
       "    }\n",
       "</style>\n",
       "<table border=\"1\" class=\"dataframe\">\n",
       "  <thead>\n",
       "    <tr style=\"text-align: right;\">\n",
       "      <th></th>\n",
       "      <th>coef</th>\n",
       "      <th>std err</th>\n",
       "      <th>t</th>\n",
       "      <th>P&gt;|t|</th>\n",
       "    </tr>\n",
       "  </thead>\n",
       "  <tbody>\n",
       "    <tr>\n",
       "      <th>intercept</th>\n",
       "      <td>39.9359</td>\n",
       "      <td>0.717</td>\n",
       "      <td>55.660</td>\n",
       "      <td>0.0</td>\n",
       "    </tr>\n",
       "    <tr>\n",
       "      <th>horsepower</th>\n",
       "      <td>-0.1578</td>\n",
       "      <td>0.006</td>\n",
       "      <td>-24.489</td>\n",
       "      <td>0.0</td>\n",
       "    </tr>\n",
       "  </tbody>\n",
       "</table>\n",
       "</div>"
      ],
      "text/plain": [
       "               coef  std err       t  P>|t|\n",
       "intercept   39.9359    0.717  55.660    0.0\n",
       "horsepower  -0.1578    0.006 -24.489    0.0"
      ]
     },
     "execution_count": 4,
     "metadata": {},
     "output_type": "execute_result"
    }
   ],
   "source": [
    "y=auto['mpg']\n",
    "\n",
    "design=MS(['horsepower'])\n",
    "X=design.fit_transform(auto)\n",
    "\n",
    "auto_slr=sm.OLS(y,X)\n",
    "results_auto_slr=auto_slr.fit()\n",
    "summarize(results_auto_slr)"
   ]
  },
  {
   "cell_type": "markdown",
   "id": "2cfe7501-e774-4e44-a2ec-d83b5713a781",
   "metadata": {},
   "source": [
    "There is a relationship! Yay!\n",
    "Standard error is super low, meaning almost all of the variance can be explained by the model.\n",
    "The relationship is negative"
   ]
  },
  {
   "cell_type": "code",
   "execution_count": 6,
   "id": "863873b9-a5e1-481c-a223-2d389c1e150b",
   "metadata": {},
   "outputs": [
    {
     "data": {
      "text/html": [
       "<div>\n",
       "<style scoped>\n",
       "    .dataframe tbody tr th:only-of-type {\n",
       "        vertical-align: middle;\n",
       "    }\n",
       "\n",
       "    .dataframe tbody tr th {\n",
       "        vertical-align: top;\n",
       "    }\n",
       "\n",
       "    .dataframe thead th {\n",
       "        text-align: right;\n",
       "    }\n",
       "</style>\n",
       "<table border=\"1\" class=\"dataframe\">\n",
       "  <thead>\n",
       "    <tr style=\"text-align: right;\">\n",
       "      <th></th>\n",
       "      <th>intercept</th>\n",
       "      <th>horsepower</th>\n",
       "    </tr>\n",
       "  </thead>\n",
       "  <tbody>\n",
       "    <tr>\n",
       "      <th>0</th>\n",
       "      <td>1.0</td>\n",
       "      <td>98</td>\n",
       "    </tr>\n",
       "  </tbody>\n",
       "</table>\n",
       "</div>"
      ],
      "text/plain": [
       "   intercept  horsepower\n",
       "0        1.0          98"
      ]
     },
     "execution_count": 6,
     "metadata": {},
     "output_type": "execute_result"
    }
   ],
   "source": [
    "new_df = pd.DataFrame({'horsepower':[98]})\n",
    "newX = design.transform(new_df)\n",
    "newX"
   ]
  },
  {
   "cell_type": "code",
   "execution_count": 7,
   "id": "0a6794ec-678e-4d25-bd88-2b9bd0164e75",
   "metadata": {},
   "outputs": [
    {
     "data": {
      "text/plain": [
       "array([[23.97307896, 24.96107534]])"
      ]
     },
     "execution_count": 7,
     "metadata": {},
     "output_type": "execute_result"
    }
   ],
   "source": [
    "auto_slr_pred = results_auto_slr.get_prediction(newX)\n",
    "auto_slr_pred.conf_int(alpha=0.05) #CI"
   ]
  },
  {
   "cell_type": "code",
   "execution_count": 8,
   "id": "19826fd4-04b7-485b-bc5e-1164b0fb8c5a",
   "metadata": {},
   "outputs": [
    {
     "data": {
      "text/plain": [
       "array([[14.80939607, 34.12475823]])"
      ]
     },
     "execution_count": 8,
     "metadata": {},
     "output_type": "execute_result"
    }
   ],
   "source": [
    "auto_slr_pred.conf_int(obs=True, alpha=0.05) #PI"
   ]
  },
  {
   "cell_type": "code",
   "execution_count": 9,
   "id": "5be90014-24e5-40c8-a026-e0503eca7d00",
   "metadata": {},
   "outputs": [
    {
     "data": {
      "image/png": "[encoded data removed]",
      "text/plain": [
       "<Figure size 640x480 with 1 Axes>"
      ]
     },
     "metadata": {},
     "output_type": "display_data"
    }
   ],
   "source": [
    "ax = auto.plot.scatter('horsepower', 'mpg')\n",
    "ax.axline((0,results_auto_slr.params.iloc[0]),slope=results_auto_slr.params.iloc[1],color='r');"
   ]
  },
  {
   "cell_type": "code",
   "execution_count": 10,
   "id": "7c45b3d4-a97f-4d2e-ae44-5d1aedfe822e",
   "metadata": {},
   "outputs": [
    {
     "data": {
      "image/png": "[encoded data removed]",
      "text/plain": [
       "<Figure size 800x800 with 1 Axes>"
      ]
     },
     "metadata": {},
     "output_type": "display_data"
    }
   ],
   "source": [
    "ax = subplots(figsize=(8,8))[1]\n",
    "ax.scatter(results_auto_slr.fittedvalues, results_auto_slr.resid)\n",
    "ax.set_xlabel('Fitted value')\n",
    "ax.set_ylabel('Residual')\n",
    "ax.axhline(0, c='k', ls='--');"
   ]
  },
  {
   "cell_type": "code",
   "execution_count": 11,
   "id": "37bbed1e-f422-4b39-acf1-3b269c9ffe59",
   "metadata": {},
   "outputs": [
    {
     "data": {
      "text/plain": [
       "Text(0, 0.5, 'Leverage')"
      ]
     },
     "execution_count": 11,
     "metadata": {},
     "output_type": "execute_result"
    },
    {
     "data": {
      "image/png": "[encoded data removed]",
      "text/plain": [
       "<Figure size 800x800 with 1 Axes>"
      ]
     },
     "metadata": {},
     "output_type": "display_data"
    }
   ],
   "source": [
    "infl = results_auto_slr.get_influence()\n",
    "ax = subplots(figsize=(8,8))[1]\n",
    "ax.scatter(np.arange(X.shape[0]), infl.hat_matrix_diag)\n",
    "ax.set_xlabel('Index')\n",
    "ax.set_ylabel('Leverage')"
   ]
  },
  {
   "cell_type": "code",
   "execution_count": 12,
   "id": "a4fedfdb-d248-422d-b26f-273b9d979f26",
   "metadata": {},
   "outputs": [
    {
     "data": {
      "text/plain": [
       "(392, 9)"
      ]
     },
     "execution_count": 12,
     "metadata": {},
     "output_type": "execute_result"
    }
   ],
   "source": [
    "auto.shape"
   ]
  },
  {
   "cell_type": "code",
   "execution_count": 13,
   "id": "c3d8ec48-ec1e-4528-a329-fc58e1a37f55",
   "metadata": {},
   "outputs": [
    {
     "data": {
      "text/plain": [
       "0.00510204081632653"
      ]
     },
     "execution_count": 13,
     "metadata": {},
     "output_type": "execute_result"
    }
   ],
   "source": [
    "2/392"
   ]
  },
  {
   "cell_type": "markdown",
   "id": "078fbb45-7ffa-49dc-98e2-a85d9881fdb2",
   "metadata": {},
   "source": [
    "A few problems: the data doesn't appear to follow a linear relationship from a visual check. The residual plot appears to take on a funnel shape, indiciating heteroscedasticity. Further, there are many points that have high leverage (the positive cutoff being 0.005).\n",
    "\n",
    "Good next steps would be to consider a non-linear model and/or transforming mpg with a concave function. I have a feeling a polymonial would fit rather nicely."
   ]
  },
  {
   "cell_type": "markdown",
   "id": "4a85e094-fc8c-4957-916a-945e2965cf39",
   "metadata": {},
   "source": [
    "### Question 9"
   ]
  },
  {
   "cell_type": "code",
   "execution_count": null,
   "id": "17f3a971-c9d0-410f-9524-63e740721770",
   "metadata": {},
   "outputs": [],
   "source": [
    "pd.plotting.scatter_matrix(auto,figsize=(16,16));"
   ]
  },
  {
   "cell_type": "code",
   "execution_count": null,
   "id": "de21679c-b851-4eb9-965d-b54731482db2",
   "metadata": {},
   "outputs": [],
   "source": [
    "auto_quant = auto.drop(['name'],axis=1)\n",
    "auto_quant.corr()"
   ]
  },
  {
   "cell_type": "code",
   "execution_count": null,
   "id": "84dc253d-3858-44dc-b40c-e59f9bcdde56",
   "metadata": {},
   "outputs": [],
   "source": [
    "X2 = MS(auto_quant.columns.drop('mpg')).fit_transform(auto)\n",
    "auto_mlr=sm.OLS(y,X2)\n",
    "results_auto_mlr=auto_mlr.fit()\n",
    "summarize(results_auto_mlr)"
   ]
  },
  {
   "cell_type": "code",
   "execution_count": null,
   "id": "7c5ad27b-d871-4425-9866-7785420afa55",
   "metadata": {},
   "outputs": [],
   "source": [
    "df = anova_lm(*[sm.OLS(y, D).fit() for D in design.build_sequence(auto, anova_type='sequential')])\n",
    "df.index = design.names\n",
    "df"
   ]
  },
  {
   "cell_type": "code",
   "execution_count": null,
   "id": "0cbcb801-6741-4937-b4df-1dbde19eed22",
   "metadata": {},
   "outputs": [],
   "source": [
    "D_full = design.transform(auto)\n",
    "OLS_full = sm.OLS(y, D_full).fit()\n",
    "dfs = []\n",
    "for d in design.build_sequence(auto, anova_type='drop'):\n",
    "    dfs.append(anova_lm(sm.OLS(y,d).fit(), OLS_full).iloc[1:])\n",
    "df = pd.concat(dfs)\n",
    "df.index = design.names\n",
    "df"
   ]
  },
  {
   "cell_type": "markdown",
   "id": "0a6613bf-657c-48b1-bb43-0937dddb7b83",
   "metadata": {},
   "source": [
    "It appears only horsepower has a relationship with mpg. Nothing else impacts mpg enough for consideration. Based on forwards and backwards selection."
   ]
  },
  {
   "cell_type": "code",
   "execution_count": null,
   "id": "7cdf43c1-466a-4c1e-92d1-7373dc0f552c",
   "metadata": {},
   "outputs": [],
   "source": [
    "ax = subplots(figsize=(8,8))[1]\n",
    "ax.scatter(results_auto_mlr.fittedvalues, results_auto_mlr.resid)\n",
    "ax.set_xlabel('Fitted value')\n",
    "ax.set_ylabel('Residual')\n",
    "ax.axhline(0, c='k', ls='--');"
   ]
  },
  {
   "cell_type": "code",
   "execution_count": null,
   "id": "ed3803fe-f19f-43a8-935c-3d2750a06fe8",
   "metadata": {},
   "outputs": [],
   "source": [
    "infl = results_auto_mlr.get_influence()\n",
    "ax = subplots(figsize=(8,8))[1]\n",
    "ax.scatter(np.arange(X.shape[0]), infl.hat_matrix_diag)\n",
    "ax.set_xlabel('Index')\n",
    "ax.set_ylabel('Leverage')"
   ]
  },
  {
   "cell_type": "markdown",
   "id": "1a4493f9-7a1e-4813-aceb-f466db49fc5f",
   "metadata": {},
   "source": [
    "Residuals still indicate heteroscedasticity, and there's still a few high leverage points but it's improved compared to a simple linear model.\n",
    "\n",
    "There doesn't appear to be any value in building a model with interaction terms, but I'll do it for the practice as the exercises ask."
   ]
  },
  {
   "cell_type": "code",
   "execution_count": null,
   "id": "f79f1f12-4790-4b77-836c-3a8aa69312c8",
   "metadata": {},
   "outputs": [],
   "source": [
    "X3 = MS(['horsepower',\n",
    "        'weight',\n",
    "        ('horsepower', 'weight')]).fit_transform(X2)\n",
    "auto_int=sm.OLS(y,X3)\n",
    "results_auto_int=auto_int.fit()\n",
    "summarize(results_auto_int)"
   ]
  },
  {
   "cell_type": "code",
   "execution_count": null,
   "id": "f3e35d25-aebe-4d3d-a551-010f6ec34a88",
   "metadata": {},
   "outputs": [],
   "source": [
    "results_auto_int.rsquared"
   ]
  },
  {
   "cell_type": "code",
   "execution_count": null,
   "id": "190c5bfb-8b46-4587-aa04-bea3d1521fda",
   "metadata": {},
   "outputs": [],
   "source": [
    "results_auto_mlr.rsquared"
   ]
  },
  {
   "cell_type": "code",
   "execution_count": null,
   "id": "063e0544-3845-466d-ad20-ee58e3fcf149",
   "metadata": {},
   "outputs": [],
   "source": [
    "results_auto_slr.rsquared"
   ]
  },
  {
   "cell_type": "markdown",
   "id": "8d89efa4-1047-473c-81c1-87f892da8af0",
   "metadata": {},
   "source": [
    "The multiple linear regression explains more variance than using interaction terms. I'm not convinced the interaction terms are doing much of anything here."
   ]
  },
  {
   "cell_type": "code",
   "execution_count": null,
   "id": "00193806-3473-4c5a-a41a-33105ccb2780",
   "metadata": {},
   "outputs": [],
   "source": [
    "X4 = MS([poly('horsepower', degree=2)]).fit_transform(X2)\n",
    "auto_x2=sm.OLS(y,X4)\n",
    "results_auto_x2=auto_x2.fit()\n",
    "summarize(results_auto_x2)"
   ]
  },
  {
   "cell_type": "code",
   "execution_count": null,
   "id": "9dd1df11-8e2c-4fbe-a77f-b7bb13521420",
   "metadata": {},
   "outputs": [],
   "source": [
    "ax = subplots(figsize=(8,8))[1]\n",
    "ax.scatter(results_auto_x2.fittedvalues, results_auto_x2.resid)\n",
    "ax.set_xlabel('Fitted value')\n",
    "ax.set_ylabel('Residual')\n",
    "ax.axhline(0, c='k', ls='--');"
   ]
  },
  {
   "cell_type": "code",
   "execution_count": null,
   "id": "25051f5d-86a3-4409-b265-3597dec2ec4e",
   "metadata": {},
   "outputs": [],
   "source": [
    "infl = results_auto_x2.get_influence()\n",
    "ax = subplots(figsize=(8,8))[1]\n",
    "ax.scatter(np.arange(X.shape[0]), infl.hat_matrix_diag)\n",
    "ax.set_xlabel('Index')\n",
    "ax.set_ylabel('Leverage')"
   ]
  },
  {
   "cell_type": "markdown",
   "id": "89510e96-945a-497d-9cbb-56e94cf2c7c0",
   "metadata": {},
   "source": [
    "squaring horsepower added leverage points but kinda corrected residuals?"
   ]
  },
  {
   "cell_type": "code",
   "execution_count": null,
   "id": "743be386-d3e3-4407-8ae7-669273ce51c7",
   "metadata": {},
   "outputs": [],
   "source": [
    "Xsqrt = pd.DataFrame(np.sqrt(X2['horsepower']))"
   ]
  },
  {
   "cell_type": "code",
   "execution_count": null,
   "id": "fa19e3ae-5d4f-48b5-9b4d-2a85c313ff2f",
   "metadata": {},
   "outputs": [],
   "source": [
    "X5 = MS(['horsepower']).fit_transform(Xsqrt)\n",
    "auto_sqrt=sm.OLS(y,X5)\n",
    "results_auto_sqrt=auto_sqrt.fit()\n",
    "summarize(results_auto_sqrt)"
   ]
  },
  {
   "cell_type": "code",
   "execution_count": null,
   "id": "60bfe77f-1d16-40c1-800e-1787357e00c2",
   "metadata": {},
   "outputs": [],
   "source": [
    "ax = subplots(figsize=(8,8))[1]\n",
    "ax.scatter(results_auto_sqrt.fittedvalues, results_auto_sqrt.resid)\n",
    "ax.set_xlabel('Fitted value')\n",
    "ax.set_ylabel('Residual')\n",
    "ax.axhline(0, c='k', ls='--');"
   ]
  },
  {
   "cell_type": "code",
   "execution_count": null,
   "id": "e941456d-546c-4e4b-b2e1-ebb6db06d8f6",
   "metadata": {},
   "outputs": [],
   "source": [
    "infl = results_auto_sqrt.get_influence()\n",
    "ax = subplots(figsize=(8,8))[1]\n",
    "ax.scatter(np.arange(X.shape[0]), infl.hat_matrix_diag)\n",
    "ax.set_xlabel('Index')\n",
    "ax.set_ylabel('Leverage')"
   ]
  },
  {
   "cell_type": "markdown",
   "id": "8e8e28a5-3cf9-4c72-8295-0dfc4eeb8f7f",
   "metadata": {},
   "source": [
    "square root didn't fix heteroscedasticity and mad eleverage points worse oops"
   ]
  },
  {
   "cell_type": "code",
   "execution_count": null,
   "id": "e47171c0-685a-4baa-80b3-f90b1911ffa1",
   "metadata": {},
   "outputs": [],
   "source": [
    "Xlog = pd.DataFrame(np.log(X2['horsepower']))"
   ]
  },
  {
   "cell_type": "code",
   "execution_count": null,
   "id": "2376d153-ff56-41fa-88d8-9ac1d066e7d2",
   "metadata": {},
   "outputs": [],
   "source": [
    "X6 = MS(['horsepower']).fit_transform(Xlog)\n",
    "auto_log=sm.OLS(y,X6)\n",
    "results_auto_log=auto_log.fit()\n",
    "summarize(results_auto_log)"
   ]
  },
  {
   "cell_type": "code",
   "execution_count": null,
   "id": "91b87489-85e4-4fa7-9907-fa804cfeabd3",
   "metadata": {},
   "outputs": [],
   "source": [
    "ax = subplots(figsize=(8,8))[1]\n",
    "ax.scatter(results_auto_log.fittedvalues, results_auto_log.resid)\n",
    "ax.set_xlabel('Fitted value')\n",
    "ax.set_ylabel('Residual')\n",
    "ax.axhline(0, c='k', ls='--');"
   ]
  },
  {
   "cell_type": "code",
   "execution_count": null,
   "id": "0738d33a-547f-41ec-a954-d2b2c8214535",
   "metadata": {},
   "outputs": [],
   "source": [
    "infl = results_auto_log.get_influence()\n",
    "ax = subplots(figsize=(8,8))[1]\n",
    "ax.scatter(np.arange(X.shape[0]), infl.hat_matrix_diag)\n",
    "ax.set_xlabel('Index')\n",
    "ax.set_ylabel('Leverage')"
   ]
  },
  {
   "cell_type": "markdown",
   "id": "a41600b6-b862-4417-b391-bdf718c34734",
   "metadata": {},
   "source": [
    "how did log make leverage even worse? And there's still heteroscedasticity! ugh."
   ]
  },
  {
   "cell_type": "markdown",
   "id": "653449a7-e0a6-4cfc-80a3-55b1eeaf91e3",
   "metadata": {},
   "source": [
    "### Question 10"
   ]
  },
  {
   "cell_type": "code",
   "execution_count": null,
   "id": "1742f5e6-c09e-4794-bfe2-95395301c2fe",
   "metadata": {},
   "outputs": [],
   "source": [
    "carseats = pd.read_csv('Carseats.csv')\n",
    "y = carseats['Sales']\n",
    "carseats = pd.DataFrame(carseats[['Price','Urban','US']])\n",
    "carseats['Urban'] = carseats['Urban'].astype(\"category\")\n",
    "carseats['US'] = carseats['US'].astype(\"category\")"
   ]
  },
  {
   "cell_type": "code",
   "execution_count": null,
   "id": "12e1db5a-0ec3-4268-ac31-e29817b2e560",
   "metadata": {},
   "outputs": [],
   "source": [
    "X = MS(carseats.columns).fit_transform(carseats)\n",
    "cs_a = sm.OLS(y, X)\n",
    "results_cs_a = cs_a.fit()\n",
    "summarize(results_cs_a)"
   ]
  },
  {
   "cell_type": "markdown",
   "id": "2fae91a1-5432-45c3-ad19-ad33450410ca",
   "metadata": {},
   "source": [
    "$$Sales=13.0435-0.0545Price-0.0219Urban+1.2006US+\\epsilon$$"
   ]
  },
  {
   "cell_type": "markdown",
   "id": "a263ba9c-c28d-4efe-8c09-e2d92e8b5171",
   "metadata": {},
   "source": [
    "We can reject the null hypothesis for price and US, but not for urban."
   ]
  },
  {
   "cell_type": "code",
   "execution_count": null,
   "id": "19861995-8b12-4439-92f2-92daa8917a2c",
   "metadata": {},
   "outputs": [],
   "source": [
    "carseats2 = pd.DataFrame(carseats[['Price','US']])\n",
    "carseats['US'] = carseats['US'].astype(\"category\")"
   ]
  },
  {
   "cell_type": "code",
   "execution_count": null,
   "id": "f2b7c246-ed12-4205-847f-18a44af88125",
   "metadata": {},
   "outputs": [],
   "source": [
    "X2 = MS(carseats2.columns).fit_transform(carseats2)\n",
    "cs_e = sm.OLS(y, X2)\n",
    "results_cs_e = cs_e.fit()\n",
    "summarize(results_cs_e)"
   ]
  },
  {
   "cell_type": "code",
   "execution_count": null,
   "id": "ccb754b1-0d58-4414-b54a-7c4bb0c5f3bf",
   "metadata": {},
   "outputs": [],
   "source": [
    "results_cs_a.rsquared"
   ]
  },
  {
   "cell_type": "code",
   "execution_count": null,
   "id": "28ea5682-99dd-4e3d-901c-37dab1707de7",
   "metadata": {},
   "outputs": [],
   "source": [
    "results_cs_e.rsquared"
   ]
  },
  {
   "cell_type": "markdown",
   "id": "328e80a6-a3e2-4ca5-a149-cf2909d3ed69",
   "metadata": {},
   "source": [
    "The models fit the data very similarly, with A being sligtly better due to the added predictor. E is better with less predictors."
   ]
  },
  {
   "cell_type": "code",
   "execution_count": null,
   "id": "7adb0feb-ef81-4bb3-a475-25ae8b0bd4d9",
   "metadata": {},
   "outputs": [],
   "source": [
    "results_cs_e.conf_int(alpha=0.05)"
   ]
  },
  {
   "cell_type": "code",
   "execution_count": null,
   "id": "8edf5a4c-71a1-4c10-9d24-e5e78efa43f5",
   "metadata": {},
   "outputs": [],
   "source": [
    "ax = subplots(figsize=(8,8))[1]\n",
    "ax.scatter(results_cs_e.fittedvalues, results_cs_e.resid)\n",
    "ax.set_xlabel('Fitted value')\n",
    "ax.set_ylabel('Residual')\n",
    "ax.axhline(0, c='k', ls='--');"
   ]
  },
  {
   "cell_type": "code",
   "execution_count": null,
   "id": "d83a2ace-f5d8-4a2c-810f-67117b748996",
   "metadata": {},
   "outputs": [],
   "source": [
    "infl = results_cs_e.get_influence()\n",
    "ax = subplots(figsize=(8,8))[1]\n",
    "ax.scatter(np.arange(X.shape[0]), infl.hat_matrix_diag)\n",
    "ax.set_xlabel('Index')\n",
    "ax.set_ylabel('Leverage')"
   ]
  },
  {
   "cell_type": "markdown",
   "id": "1ab7c96a-540e-4e48-acba-a8447c936d41",
   "metadata": {},
   "source": [
    "There are quite a few outliers and leverage points."
   ]
  }
 ],
 "metadata": {
  "kernelspec": {
   "display_name": "Python 3 (ipykernel)",
   "language": "python",
   "name": "python3"
  },
  "language_info": {
   "codemirror_mode": {
    "name": "ipython",
    "version": 3
   },
   "file_extension": ".py",
   "mimetype": "text/x-python",
   "name": "python",
   "nbconvert_exporter": "python",
   "pygments_lexer": "ipython3",
   "version": "3.12.4"
  }
 },
 "nbformat": 4,
 "nbformat_minor": 5
}

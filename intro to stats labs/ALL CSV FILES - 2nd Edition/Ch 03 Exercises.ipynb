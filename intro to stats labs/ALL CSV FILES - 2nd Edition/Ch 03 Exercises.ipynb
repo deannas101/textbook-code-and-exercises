{
 "cells": [
  {
   "cell_type": "code",
   "execution_count": null,
   "id": "e0cf890b-6285-42f7-a92d-ff7f6917c2f7",
   "metadata": {},
   "outputs": [],
   "source": []
  }
 ],
 "metadata": {
  "kernelspec": {
   "display_name": "Python 3 (ipykernel)",
   "language": "python",
   "name": "python3"
  },
  "language_info": {
   "codemirror_mode": {
    "name": "ipython",
    "version": 3
   },
   "file_extension": ".py",
   "mimetype": "text/x-python",
   "name": "python",
   "nbconvert_exporter": "python",
   "pygments_lexer": "ipython3",
   "version": "3.12.4"
  }
 },
 "nbformat": 4,
 "nbformat_minor": 5
}

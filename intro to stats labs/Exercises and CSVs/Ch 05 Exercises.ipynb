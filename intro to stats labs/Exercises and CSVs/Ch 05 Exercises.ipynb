{
 "cells": [
  {
   "cell_type": "code",
   "execution_count": 2,
   "id": "b4d3628c-a87c-4279-b3f7-b90a68878991",
   "metadata": {},
   "outputs": [],
   "source": [
    "import numpy as np\n",
    "import pandas as pd\n",
    "from matplotlib.pyplot import subplots\n",
    "import statsmodels.api as sm\n",
    "from ISLP import load_data\n",
    "from ISLP.models import (ModelSpec as MS,\n",
    "                         summarize)\n",
    "from ISLP import confusion_table\n",
    "from ISLP.models import contrast\n",
    "from sklearn.discriminant_analysis import \\\n",
    "     (LinearDiscriminantAnalysis as LDA,\n",
    "      QuadraticDiscriminantAnalysis as QDA)\n",
    "from sklearn.naive_bayes import GaussianNB\n",
    "from sklearn.neighbors import KNeighborsClassifier\n",
    "from sklearn.preprocessing import StandardScaler\n",
    "from sklearn.model_selection import train_test_split\n",
    "from sklearn.linear_model import LogisticRegression\n",
    "from functools import partial\n",
    "from sklearn.model_selection import \\\n",
    "     (cross_validate,\n",
    "      KFold,\n",
    "      ShuffleSplit)\n",
    "from sklearn.base import clone\n",
    "from ISLP.models import sklearn_sm"
   ]
  },
  {
   "cell_type": "markdown",
   "id": "5460bf16-15ca-4213-b369-556c8614dbfc",
   "metadata": {},
   "source": [
    "### Question 5\n",
    "\n",
    "We will estimate the test error on the logistic regression model from Ch 04 Exercises.\n",
    "\n",
    "a) Fit a logistic regression model that uses income and balance to\r\n",
    " predict default."
   ]
  },
  {
   "cell_type": "code",
   "execution_count": 5,
   "id": "ab414e69-8d67-41b4-b10e-983204c8d52a",
   "metadata": {},
   "outputs": [
    {
     "data": {
      "text/html": [
       "<div>\n",
       "<style scoped>\n",
       "    .dataframe tbody tr th:only-of-type {\n",
       "        vertical-align: middle;\n",
       "    }\n",
       "\n",
       "    .dataframe tbody tr th {\n",
       "        vertical-align: top;\n",
       "    }\n",
       "\n",
       "    .dataframe thead th {\n",
       "        text-align: right;\n",
       "    }\n",
       "</style>\n",
       "<table border=\"1\" class=\"dataframe\">\n",
       "  <thead>\n",
       "    <tr style=\"text-align: right;\">\n",
       "      <th></th>\n",
       "      <th>default</th>\n",
       "      <th>student</th>\n",
       "      <th>balance</th>\n",
       "      <th>income</th>\n",
       "    </tr>\n",
       "  </thead>\n",
       "  <tbody>\n",
       "    <tr>\n",
       "      <th>0</th>\n",
       "      <td>No</td>\n",
       "      <td>No</td>\n",
       "      <td>729.526495</td>\n",
       "      <td>44361.625074</td>\n",
       "    </tr>\n",
       "    <tr>\n",
       "      <th>1</th>\n",
       "      <td>No</td>\n",
       "      <td>Yes</td>\n",
       "      <td>817.180407</td>\n",
       "      <td>12106.134700</td>\n",
       "    </tr>\n",
       "    <tr>\n",
       "      <th>2</th>\n",
       "      <td>No</td>\n",
       "      <td>No</td>\n",
       "      <td>1073.549164</td>\n",
       "      <td>31767.138947</td>\n",
       "    </tr>\n",
       "    <tr>\n",
       "      <th>3</th>\n",
       "      <td>No</td>\n",
       "      <td>No</td>\n",
       "      <td>529.250605</td>\n",
       "      <td>35704.493935</td>\n",
       "    </tr>\n",
       "    <tr>\n",
       "      <th>4</th>\n",
       "      <td>No</td>\n",
       "      <td>No</td>\n",
       "      <td>785.655883</td>\n",
       "      <td>38463.495879</td>\n",
       "    </tr>\n",
       "    <tr>\n",
       "      <th>...</th>\n",
       "      <td>...</td>\n",
       "      <td>...</td>\n",
       "      <td>...</td>\n",
       "      <td>...</td>\n",
       "    </tr>\n",
       "    <tr>\n",
       "      <th>9995</th>\n",
       "      <td>No</td>\n",
       "      <td>No</td>\n",
       "      <td>711.555020</td>\n",
       "      <td>52992.378914</td>\n",
       "    </tr>\n",
       "    <tr>\n",
       "      <th>9996</th>\n",
       "      <td>No</td>\n",
       "      <td>No</td>\n",
       "      <td>757.962918</td>\n",
       "      <td>19660.721768</td>\n",
       "    </tr>\n",
       "    <tr>\n",
       "      <th>9997</th>\n",
       "      <td>No</td>\n",
       "      <td>No</td>\n",
       "      <td>845.411989</td>\n",
       "      <td>58636.156984</td>\n",
       "    </tr>\n",
       "    <tr>\n",
       "      <th>9998</th>\n",
       "      <td>No</td>\n",
       "      <td>No</td>\n",
       "      <td>1569.009053</td>\n",
       "      <td>36669.112365</td>\n",
       "    </tr>\n",
       "    <tr>\n",
       "      <th>9999</th>\n",
       "      <td>No</td>\n",
       "      <td>Yes</td>\n",
       "      <td>200.922183</td>\n",
       "      <td>16862.952321</td>\n",
       "    </tr>\n",
       "  </tbody>\n",
       "</table>\n",
       "<p>10000 rows × 4 columns</p>\n",
       "</div>"
      ],
      "text/plain": [
       "     default student      balance        income\n",
       "0         No      No   729.526495  44361.625074\n",
       "1         No     Yes   817.180407  12106.134700\n",
       "2         No      No  1073.549164  31767.138947\n",
       "3         No      No   529.250605  35704.493935\n",
       "4         No      No   785.655883  38463.495879\n",
       "...      ...     ...          ...           ...\n",
       "9995      No      No   711.555020  52992.378914\n",
       "9996      No      No   757.962918  19660.721768\n",
       "9997      No      No   845.411989  58636.156984\n",
       "9998      No      No  1569.009053  36669.112365\n",
       "9999      No     Yes   200.922183  16862.952321\n",
       "\n",
       "[10000 rows x 4 columns]"
      ]
     },
     "execution_count": 5,
     "metadata": {},
     "output_type": "execute_result"
    }
   ],
   "source": [
    "default = pd.read_csv(\"Default.csv\")\n",
    "default"
   ]
  },
  {
   "cell_type": "code",
   "execution_count": 11,
   "id": "a5cc4fb3-de14-4241-acdd-770e9b2bb0be",
   "metadata": {},
   "outputs": [
    {
     "data": {
      "text/plain": [
       "array(['No', 'Yes'], dtype=object)"
      ]
     },
     "execution_count": 11,
     "metadata": {},
     "output_type": "execute_result"
    }
   ],
   "source": [
    "np.unique(default[['default','student']])"
   ]
  },
  {
   "cell_type": "code",
   "execution_count": 13,
   "id": "faba290b-07b9-462d-a597-4c1d3f0e72c1",
   "metadata": {},
   "outputs": [
    {
     "data": {
      "text/plain": [
       "array([False])"
      ]
     },
     "execution_count": 13,
     "metadata": {},
     "output_type": "execute_result"
    }
   ],
   "source": [
    "np.unique(np.isnan(default[['balance','income']]))"
   ]
  },
  {
   "cell_type": "markdown",
   "id": "cacaaf06-5335-4268-b232-5d7965060498",
   "metadata": {},
   "source": [
    "No missing values to worry about."
   ]
  },
  {
   "cell_type": "code",
   "execution_count": 22,
   "id": "d5e11533-a7dc-485a-b111-e13fc0fa2471",
   "metadata": {},
   "outputs": [
    {
     "data": {
      "text/html": [
       "<div>\n",
       "<style scoped>\n",
       "    .dataframe tbody tr th:only-of-type {\n",
       "        vertical-align: middle;\n",
       "    }\n",
       "\n",
       "    .dataframe tbody tr th {\n",
       "        vertical-align: top;\n",
       "    }\n",
       "\n",
       "    .dataframe thead th {\n",
       "        text-align: right;\n",
       "    }\n",
       "</style>\n",
       "<table border=\"1\" class=\"dataframe\">\n",
       "  <thead>\n",
       "    <tr style=\"text-align: right;\">\n",
       "      <th></th>\n",
       "      <th>coef</th>\n",
       "      <th>std err</th>\n",
       "      <th>z</th>\n",
       "      <th>P&gt;|z|</th>\n",
       "    </tr>\n",
       "  </thead>\n",
       "  <tbody>\n",
       "    <tr>\n",
       "      <th>intercept</th>\n",
       "      <td>-11.540500</td>\n",
       "      <td>0.435000</td>\n",
       "      <td>-26.544</td>\n",
       "      <td>0.0</td>\n",
       "    </tr>\n",
       "    <tr>\n",
       "      <th>balance</th>\n",
       "      <td>0.005600</td>\n",
       "      <td>0.000000</td>\n",
       "      <td>24.835</td>\n",
       "      <td>0.0</td>\n",
       "    </tr>\n",
       "    <tr>\n",
       "      <th>income</th>\n",
       "      <td>0.000021</td>\n",
       "      <td>0.000005</td>\n",
       "      <td>4.174</td>\n",
       "      <td>0.0</td>\n",
       "    </tr>\n",
       "  </tbody>\n",
       "</table>\n",
       "</div>"
      ],
      "text/plain": [
       "                coef   std err       z  P>|z|\n",
       "intercept -11.540500  0.435000 -26.544    0.0\n",
       "balance     0.005600  0.000000  24.835    0.0\n",
       "income      0.000021  0.000005   4.174    0.0"
      ]
     },
     "execution_count": 22,
     "metadata": {},
     "output_type": "execute_result"
    }
   ],
   "source": [
    "allvars = default[['balance','income']]\n",
    "design = MS(allvars)\n",
    "X = design.fit_transform(default)\n",
    "y = default.default == 'Yes'\n",
    "glm = sm.GLM(y,\n",
    "             X,\n",
    "             family=sm.families.Binomial())\n",
    "results = glm.fit()\n",
    "summarize(results)"
   ]
  },
  {
   "cell_type": "markdown",
   "id": "b2a541c5-e7fc-47a1-a67b-e35ae1bfca99",
   "metadata": {},
   "source": [
    "b) Using the validation set approach, estimate the test error of this  model."
   ]
  },
  {
   "cell_type": "code",
   "execution_count": 109,
   "id": "c0efae04-945f-4e77-a61b-1ff58247c013",
   "metadata": {},
   "outputs": [
    {
     "data": {
      "text/html": [
       "<div>\n",
       "<style scoped>\n",
       "    .dataframe tbody tr th:only-of-type {\n",
       "        vertical-align: middle;\n",
       "    }\n",
       "\n",
       "    .dataframe tbody tr th {\n",
       "        vertical-align: top;\n",
       "    }\n",
       "\n",
       "    .dataframe thead th {\n",
       "        text-align: right;\n",
       "    }\n",
       "</style>\n",
       "<table border=\"1\" class=\"dataframe\">\n",
       "  <thead>\n",
       "    <tr style=\"text-align: right;\">\n",
       "      <th>Truth</th>\n",
       "      <th>No</th>\n",
       "      <th>Ye</th>\n",
       "    </tr>\n",
       "    <tr>\n",
       "      <th>Predicted</th>\n",
       "      <th></th>\n",
       "      <th></th>\n",
       "    </tr>\n",
       "  </thead>\n",
       "  <tbody>\n",
       "    <tr>\n",
       "      <th>No</th>\n",
       "      <td>4817</td>\n",
       "      <td>110</td>\n",
       "    </tr>\n",
       "    <tr>\n",
       "      <th>Ye</th>\n",
       "      <td>14</td>\n",
       "      <td>59</td>\n",
       "    </tr>\n",
       "  </tbody>\n",
       "</table>\n",
       "</div>"
      ],
      "text/plain": [
       "Truth        No   Ye\n",
       "Predicted           \n",
       "No         4817  110\n",
       "Ye           14   59"
      ]
     },
     "execution_count": 109,
     "metadata": {},
     "output_type": "execute_result"
    }
   ],
   "source": [
    "#split train/test data - 5000/5000\n",
    "def_train, def_valid = train_test_split(default[['balance','income','default']],\n",
    "                                          test_size=5000,\n",
    "                                          random_state=3)\n",
    "\n",
    "#retrain logistic model on training data\n",
    "X_train = design.fit_transform(def_train)\n",
    "y_train = def_train.default == 'Yes'\n",
    "glm = sm.GLM(y_train,\n",
    "             X_train,\n",
    "             family=sm.families.Binomial())\n",
    "results = glm.fit()\n",
    "\n",
    "#prediction of test data and classifying predictions\n",
    "X_test = design.fit_transform(def_valid)\n",
    "y_test = def_valid.default == 'Yes'\n",
    "probs = results.predict(exog=X_test)\n",
    "\n",
    "y_test = np.where(y_test==0,\"No\",\"Ye\")\n",
    "labels = np.array([\"No\"]*5000)\n",
    "labels[probs>0.5] = 'Yes'\n",
    "confusion_table(labels, y_test)"
   ]
  },
  {
   "cell_type": "code",
   "execution_count": 111,
   "id": "222be270-433d-486c-a799-af1795af45ab",
   "metadata": {},
   "outputs": [
    {
     "data": {
      "text/plain": [
       "array(['No', 'Ye'], dtype='<U2')"
      ]
     },
     "execution_count": 111,
     "metadata": {},
     "output_type": "execute_result"
    }
   ],
   "source": [
    "np.unique(labels)"
   ]
  },
  {
   "cell_type": "markdown",
   "id": "365a5f31-852f-4547-8e75-63f4c7a7e78d",
   "metadata": {},
   "source": [
    "I don't know why labels is only assigning \"Ye\" instead of \"Yes,\" so we're going to work with some funny labeling."
   ]
  },
  {
   "cell_type": "code",
   "execution_count": 114,
   "id": "62f83d1c-4b49-496c-9035-f48cdef73a7d",
   "metadata": {},
   "outputs": [
    {
     "data": {
      "text/plain": [
       "0.0248"
      ]
     },
     "execution_count": 114,
     "metadata": {},
     "output_type": "execute_result"
    }
   ],
   "source": [
    "(14+110)/5000"
   ]
  },
  {
   "cell_type": "markdown",
   "id": "01d57a06-794b-4b39-a13a-262fe609d99a",
   "metadata": {},
   "source": [
    "The validation set error is 2.5%\n",
    "\n",
    "c) Repeat the process in (b) three times, using three different splits  of the observations into a training set and a validation set. Co\r\n",
    "ment on the results obtaine.\r\n"
   ]
  },
  {
   "cell_type": "code",
   "execution_count": 136,
   "id": "db155d95-4981-4ea7-995e-e15acf58702d",
   "metadata": {},
   "outputs": [
    {
     "data": {
      "text/html": [
       "<div>\n",
       "<style scoped>\n",
       "    .dataframe tbody tr th:only-of-type {\n",
       "        vertical-align: middle;\n",
       "    }\n",
       "\n",
       "    .dataframe tbody tr th {\n",
       "        vertical-align: top;\n",
       "    }\n",
       "\n",
       "    .dataframe thead th {\n",
       "        text-align: right;\n",
       "    }\n",
       "</style>\n",
       "<table border=\"1\" class=\"dataframe\">\n",
       "  <thead>\n",
       "    <tr style=\"text-align: right;\">\n",
       "      <th>Truth</th>\n",
       "      <th>No</th>\n",
       "      <th>Ye</th>\n",
       "    </tr>\n",
       "    <tr>\n",
       "      <th>Predicted</th>\n",
       "      <th></th>\n",
       "      <th></th>\n",
       "    </tr>\n",
       "  </thead>\n",
       "  <tbody>\n",
       "    <tr>\n",
       "      <th>No</th>\n",
       "      <td>7211</td>\n",
       "      <td>181</td>\n",
       "    </tr>\n",
       "    <tr>\n",
       "      <th>Ye</th>\n",
       "      <td>29</td>\n",
       "      <td>79</td>\n",
       "    </tr>\n",
       "  </tbody>\n",
       "</table>\n",
       "</div>"
      ],
      "text/plain": [
       "Truth        No   Ye\n",
       "Predicted           \n",
       "No         7211  181\n",
       "Ye           29   79"
      ]
     },
     "execution_count": 136,
     "metadata": {},
     "output_type": "execute_result"
    }
   ],
   "source": [
    "#split train/test data - 2500/7500\n",
    "def_train, def_valid = train_test_split(default[['balance','income','default']],\n",
    "                                          test_size=7500,\n",
    "                                          random_state=26)\n",
    "\n",
    "#retrain logistic model on training data\n",
    "X_train = design.fit_transform(def_train)\n",
    "y_train = def_train.default == 'Yes'\n",
    "glm = sm.GLM(y_train,\n",
    "             X_train,\n",
    "             family=sm.families.Binomial())\n",
    "results = glm.fit()\n",
    "\n",
    "#prediction of test data and classifying predictions\n",
    "X_test = design.fit_transform(def_valid)\n",
    "y_test = def_valid.default == 'Yes'\n",
    "probs = results.predict(exog=X_test)\n",
    "\n",
    "y_test = np.where(y_test==0,\"No\",\"Ye\")\n",
    "labels = np.array([\"No\"]*7500)\n",
    "labels[probs>0.5] = 'Yes'\n",
    "confusion_table(labels, y_test)"
   ]
  },
  {
   "cell_type": "code",
   "execution_count": 138,
   "id": "73588146-63cc-409c-bf64-e078584f5309",
   "metadata": {},
   "outputs": [
    {
     "data": {
      "text/html": [
       "<div>\n",
       "<style scoped>\n",
       "    .dataframe tbody tr th:only-of-type {\n",
       "        vertical-align: middle;\n",
       "    }\n",
       "\n",
       "    .dataframe tbody tr th {\n",
       "        vertical-align: top;\n",
       "    }\n",
       "\n",
       "    .dataframe thead th {\n",
       "        text-align: right;\n",
       "    }\n",
       "</style>\n",
       "<table border=\"1\" class=\"dataframe\">\n",
       "  <thead>\n",
       "    <tr style=\"text-align: right;\">\n",
       "      <th>Truth</th>\n",
       "      <th>No</th>\n",
       "      <th>Ye</th>\n",
       "    </tr>\n",
       "    <tr>\n",
       "      <th>Predicted</th>\n",
       "      <th></th>\n",
       "      <th></th>\n",
       "    </tr>\n",
       "  </thead>\n",
       "  <tbody>\n",
       "    <tr>\n",
       "      <th>No</th>\n",
       "      <td>2416</td>\n",
       "      <td>55</td>\n",
       "    </tr>\n",
       "    <tr>\n",
       "      <th>Ye</th>\n",
       "      <td>6</td>\n",
       "      <td>23</td>\n",
       "    </tr>\n",
       "  </tbody>\n",
       "</table>\n",
       "</div>"
      ],
      "text/plain": [
       "Truth        No  Ye\n",
       "Predicted          \n",
       "No         2416  55\n",
       "Ye            6  23"
      ]
     },
     "execution_count": 138,
     "metadata": {},
     "output_type": "execute_result"
    }
   ],
   "source": [
    "#split train/test data - 7500/2500\n",
    "def_train, def_valid = train_test_split(default[['balance','income','default']],\n",
    "                                          test_size=2500,\n",
    "                                          random_state=7)\n",
    "\n",
    "#retrain logistic model on training data\n",
    "X_train = design.fit_transform(def_train)\n",
    "y_train = def_train.default == 'Yes'\n",
    "glm = sm.GLM(y_train,\n",
    "             X_train,\n",
    "             family=sm.families.Binomial())\n",
    "results = glm.fit()\n",
    "\n",
    "#prediction of test data and classifying predictions\n",
    "X_test = design.fit_transform(def_valid)\n",
    "y_test = def_valid.default == 'Yes'\n",
    "probs = results.predict(exog=X_test)\n",
    "\n",
    "y_test = np.where(y_test==0,\"No\",\"Ye\")\n",
    "labels = np.array([\"No\"]*2500)\n",
    "labels[probs>0.5] = 'Yes'\n",
    "confusion_table(labels, y_test)"
   ]
  },
  {
   "cell_type": "code",
   "execution_count": 140,
   "id": "5e440513-7bcb-4f40-8340-79a81edbdf65",
   "metadata": {},
   "outputs": [
    {
     "data": {
      "text/html": [
       "<div>\n",
       "<style scoped>\n",
       "    .dataframe tbody tr th:only-of-type {\n",
       "        vertical-align: middle;\n",
       "    }\n",
       "\n",
       "    .dataframe tbody tr th {\n",
       "        vertical-align: top;\n",
       "    }\n",
       "\n",
       "    .dataframe thead th {\n",
       "        text-align: right;\n",
       "    }\n",
       "</style>\n",
       "<table border=\"1\" class=\"dataframe\">\n",
       "  <thead>\n",
       "    <tr style=\"text-align: right;\">\n",
       "      <th>Truth</th>\n",
       "      <th>No</th>\n",
       "      <th>Ye</th>\n",
       "    </tr>\n",
       "    <tr>\n",
       "      <th>Predicted</th>\n",
       "      <th></th>\n",
       "      <th></th>\n",
       "    </tr>\n",
       "  </thead>\n",
       "  <tbody>\n",
       "    <tr>\n",
       "      <th>No</th>\n",
       "      <td>968</td>\n",
       "      <td>20</td>\n",
       "    </tr>\n",
       "    <tr>\n",
       "      <th>Ye</th>\n",
       "      <td>1</td>\n",
       "      <td>11</td>\n",
       "    </tr>\n",
       "  </tbody>\n",
       "</table>\n",
       "</div>"
      ],
      "text/plain": [
       "Truth       No  Ye\n",
       "Predicted         \n",
       "No         968  20\n",
       "Ye           1  11"
      ]
     },
     "execution_count": 140,
     "metadata": {},
     "output_type": "execute_result"
    }
   ],
   "source": [
    "#split train/test data - 9000/1000\n",
    "def_train, def_valid = train_test_split(default[['balance','income','default']],\n",
    "                                          test_size=1000,\n",
    "                                          random_state=31)\n",
    "\n",
    "#retrain logistic model on training data\n",
    "X_train = design.fit_transform(def_train)\n",
    "y_train = def_train.default == 'Yes'\n",
    "glm = sm.GLM(y_train,\n",
    "             X_train,\n",
    "             family=sm.families.Binomial())\n",
    "results = glm.fit()\n",
    "\n",
    "#prediction of test data and classifying predictions\n",
    "X_test = design.fit_transform(def_valid)\n",
    "y_test = def_valid.default == 'Yes'\n",
    "probs = results.predict(exog=X_test)\n",
    "\n",
    "y_test = np.where(y_test==0,\"No\",\"Ye\")\n",
    "labels = np.array([\"No\"]*1000)\n",
    "labels[probs>0.5] = 'Yes'\n",
    "confusion_table(labels, y_test)"
   ]
  },
  {
   "cell_type": "code",
   "execution_count": 142,
   "id": "68d1869f-0d2f-40c8-9f70-e0383272738f",
   "metadata": {},
   "outputs": [
    {
     "name": "stdout",
     "output_type": "stream",
     "text": [
      "Split 1: 0.0248 \n",
      " Split 2: 0.028 \n",
      " Split 3: 0.0244 \n",
      " Split 4: 0.021\n"
     ]
    }
   ],
   "source": [
    "print(\"Split 1:\",(14+110)/5000,'\\n',\"Split 2:\",(29+181)/7500,'\\n',\"Split 3:\",(6+55)/2500,'\\n',\"Split 4:\",(21)/1000)"
   ]
  },
  {
   "cell_type": "markdown",
   "id": "51f3fccb-473d-4302-94ec-cf6242762507",
   "metadata": {},
   "source": [
    "The validation set error varies a lot depending on the proportion of observations held out.  the fewer observations used for testing, the more likely the model is overfitting the data.\n",
    "\n",
    "d) Now consider a logistic regression model that predicts the prob\n",
    "ability of default using income, balance, and a dummy variabl \n",
    " for student. Estimate the test error for this model using the vl\r\n",
    "idation set approach. Comment on whether or not includin a\r\n",
    " d ummyvariable for student leads to a reduction in the test e or\r\n",
    " rate."
   ]
  },
  {
   "cell_type": "code",
   "execution_count": 163,
   "id": "79a8a65c-5154-436f-be67-0f22bef6327d",
   "metadata": {},
   "outputs": [
    {
     "data": {
      "text/html": [
       "<div>\n",
       "<style scoped>\n",
       "    .dataframe tbody tr th:only-of-type {\n",
       "        vertical-align: middle;\n",
       "    }\n",
       "\n",
       "    .dataframe tbody tr th {\n",
       "        vertical-align: top;\n",
       "    }\n",
       "\n",
       "    .dataframe thead th {\n",
       "        text-align: right;\n",
       "    }\n",
       "</style>\n",
       "<table border=\"1\" class=\"dataframe\">\n",
       "  <thead>\n",
       "    <tr style=\"text-align: right;\">\n",
       "      <th>Truth</th>\n",
       "      <th>No</th>\n",
       "      <th>Ye</th>\n",
       "    </tr>\n",
       "    <tr>\n",
       "      <th>Predicted</th>\n",
       "      <th></th>\n",
       "      <th></th>\n",
       "    </tr>\n",
       "  </thead>\n",
       "  <tbody>\n",
       "    <tr>\n",
       "      <th>No</th>\n",
       "      <td>4815</td>\n",
       "      <td>110</td>\n",
       "    </tr>\n",
       "    <tr>\n",
       "      <th>Ye</th>\n",
       "      <td>16</td>\n",
       "      <td>59</td>\n",
       "    </tr>\n",
       "  </tbody>\n",
       "</table>\n",
       "</div>"
      ],
      "text/plain": [
       "Truth        No   Ye\n",
       "Predicted           \n",
       "No         4815  110\n",
       "Ye           16   59"
      ]
     },
     "execution_count": 163,
     "metadata": {},
     "output_type": "execute_result"
    }
   ],
   "source": [
    "#split train/test data - 5000/5000\n",
    "default['student'] = default['student'].astype(\"category\")\n",
    "def_train, def_valid = train_test_split(default,\n",
    "                                          test_size=5000,\n",
    "                                          random_state=3)\n",
    "\n",
    "allvars = default[['balance','income','student']]\n",
    "design = MS(allvars)\n",
    "\n",
    "#retrain logistic model on training data\n",
    "X_train = design.fit_transform(def_train)\n",
    "y_train = def_train.default == 'Yes'\n",
    "glm = sm.GLM(y_train,\n",
    "             X_train,\n",
    "             family=sm.families.Binomial())\n",
    "results = glm.fit()\n",
    "\n",
    "#prediction of test data and classifying predictions\n",
    "X_test = design.fit_transform(def_valid)\n",
    "y_test = def_valid.default == 'Yes'\n",
    "probs = results.predict(exog=X_test)\n",
    "\n",
    "y_test = np.where(y_test==0,\"No\",\"Ye\")\n",
    "labels = np.array([\"No\"]*5000)\n",
    "labels[probs>0.5] = 'Yes'\n",
    "confusion_table(labels, y_test)"
   ]
  },
  {
   "cell_type": "code",
   "execution_count": 165,
   "id": "4837c122-a01a-4e06-bbca-df6b72f46845",
   "metadata": {},
   "outputs": [
    {
     "data": {
      "text/plain": [
       "0.0252"
      ]
     },
     "execution_count": 165,
     "metadata": {},
     "output_type": "execute_result"
    }
   ],
   "source": [
    "(16+110)/5000"
   ]
  },
  {
   "cell_type": "markdown",
   "id": "12faa97a-44c2-4e66-81a2-fa1552c1cfd5",
   "metadata": {},
   "source": [
    "The validation set error is 2.5% , which with rounding is the same as the logistic model without using student as adummy variable.\n",
    "### Question 6"
   ]
  },
  {
   "cell_type": "code",
   "execution_count": null,
   "id": "101aa5b9-037e-4583-998e-f1d07dc30e6e",
   "metadata": {},
   "outputs": [],
   "source": []
  }
 ],
 "metadata": {
  "kernelspec": {
   "display_name": "Python 3 (ipykernel)",
   "language": "python",
   "name": "python3"
  },
  "language_info": {
   "codemirror_mode": {
    "name": "ipython",
    "version": 3
   },
   "file_extension": ".py",
   "mimetype": "text/x-python",
   "name": "python",
   "nbconvert_exporter": "python",
   "pygments_lexer": "ipython3",
   "version": "3.12.4"
  }
 },
 "nbformat": 4,
 "nbformat_minor": 5
}
